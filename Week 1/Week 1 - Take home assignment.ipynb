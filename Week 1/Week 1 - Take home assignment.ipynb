{
 "cells": [
  {
   "cell_type": "markdown",
   "id": "9d08451f-d354-4938-b20a-5a38df2aace4",
   "metadata": {},
   "source": [
    "## ⁠Display Fibonacci Series upto 10 terms"
   ]
  },
  {
   "cell_type": "code",
   "execution_count": 12,
   "id": "4676e541-7565-4ff8-84f4-0e5488989c87",
   "metadata": {},
   "outputs": [],
   "source": [
    "i = 1\n",
    "j = 1\n",
    "fib = []\n",
    "for k in range(5):\n",
    "    fib.append(i)\n",
    "    fib.append(j)\n",
    "    i = i + j\n",
    "    j = i + j"
   ]
  },
  {
   "cell_type": "code",
   "execution_count": 13,
   "id": "493d405b-6386-4240-b6a9-5cbd5cea5a9c",
   "metadata": {},
   "outputs": [
    {
     "name": "stdout",
     "output_type": "stream",
     "text": [
      "Fibonacci series upto 10 terms:\n",
      "1\n",
      "1\n",
      "2\n",
      "3\n",
      "5\n",
      "8\n",
      "13\n",
      "21\n",
      "34\n",
      "55\n"
     ]
    }
   ],
   "source": [
    "print(\"Fibonacci series upto 10 terms:\")\n",
    "for term in fib:\n",
    "    print(term)"
   ]
  },
  {
   "cell_type": "markdown",
   "id": "41bbcc15-96f4-4944-9cf0-092a5720346a",
   "metadata": {},
   "source": [
    "## ⁠Display numbers at the odd indices of a list"
   ]
  },
  {
   "cell_type": "code",
   "execution_count": 20,
   "id": "d320d4c7-5cec-45f8-a216-6ed3234f51e2",
   "metadata": {},
   "outputs": [
    {
     "name": "stdout",
     "output_type": "stream",
     "text": [
      "1\n",
      "3\n",
      "8\n",
      "21\n",
      "55\n"
     ]
    }
   ],
   "source": [
    "for i in range(len(fib)):\n",
    "    if i % 2 != 0:\n",
    "        print(fib[i])"
   ]
  },
  {
   "cell_type": "markdown",
   "id": "23a40f42-9cb3-4aec-b860-59b08ed07288",
   "metadata": {},
   "source": [
    "## Count the number of different words in this text"
   ]
  },
  {
   "cell_type": "code",
   "execution_count": 21,
   "id": "ff0abb36-9679-4d1b-9b70-0fccb3a2e053",
   "metadata": {},
   "outputs": [],
   "source": [
    "string = 'I have provided this text to provide tips on creating interesting paragraphs. First, start with a clear topic sentence that introduces the main idea. Then, support the topic sentence with specific details, examples, and evidence. Vary the sentence length and structure to keep the reader engaged. Finally, end with a strong concluding sentence that summarizes the main points. Remember, practice makes perfect!'"
   ]
  },
  {
   "cell_type": "code",
   "execution_count": 22,
   "id": "bfb77bf5-21d4-4470-add3-e59a654dba0c",
   "metadata": {},
   "outputs": [
    {
     "name": "stdout",
     "output_type": "stream",
     "text": [
      "Total number of workds: 62\n"
     ]
    }
   ],
   "source": [
    "k = string.split(\" \")\n",
    "print(\"Total number of workds:\", len(k))"
   ]
  },
  {
   "cell_type": "markdown",
   "id": "466e1cef-292c-4895-91b9-7ecce05e1a24",
   "metadata": {},
   "source": [
    "## Function count_vowels(word) that returns the number of vowels in the word"
   ]
  },
  {
   "cell_type": "code",
   "execution_count": 23,
   "id": "466a4a77-6c5b-4749-b3cf-e3000ea42351",
   "metadata": {},
   "outputs": [],
   "source": [
    "def count_vowels(word):\n",
    "    n = 0\n",
    "    vowel = ['a', 'e', 'i', 'o', 'u']\n",
    "    for i in word:\n",
    "        if i in vowel:\n",
    "            n += 1\n",
    "    return n"
   ]
  },
  {
   "cell_type": "code",
   "execution_count": 24,
   "id": "2e6eaa87-29cb-4a16-93fc-433db2b2c8a8",
   "metadata": {},
   "outputs": [
    {
     "data": {
      "text/plain": [
       "4"
      ]
     },
     "execution_count": 24,
     "metadata": {},
     "output_type": "execute_result"
    }
   ],
   "source": [
    "count_vowels('adexifgzu') # test"
   ]
  },
  {
   "cell_type": "markdown",
   "id": "794cdcfa-83dd-4bab-bb26-71f435cdf0aa",
   "metadata": {},
   "source": [
    "## Print each list item in all caps."
   ]
  },
  {
   "cell_type": "code",
   "execution_count": 25,
   "id": "d26b070d-c2c7-4d65-ac61-01038efcf925",
   "metadata": {},
   "outputs": [
    {
     "name": "stdout",
     "output_type": "stream",
     "text": [
      "TIGER\n",
      "ELEPHANT\n",
      "MONKEY\n",
      "ZEBRA\n",
      "PANTHER\n"
     ]
    }
   ],
   "source": [
    "animals=['tiger', 'elephant', 'monkey', 'zebra', 'panther']\n",
    "for element in animals:\n",
    "    print(element.upper())"
   ]
  },
  {
   "cell_type": "markdown",
   "id": "1cdc6838-b2d4-4f7f-9aca-16c5585d8e35",
   "metadata": {},
   "source": [
    "## Odd or even: 1 to 20"
   ]
  },
  {
   "cell_type": "code",
   "execution_count": 27,
   "id": "a271a309-6bce-4280-acb0-9ed880d8ff90",
   "metadata": {},
   "outputs": [
    {
     "name": "stdout",
     "output_type": "stream",
     "text": [
      "1 is odd\n",
      "2 is even\n",
      "3 is odd\n",
      "4 is even\n",
      "5 is odd\n",
      "6 is even\n",
      "7 is odd\n",
      "8 is even\n",
      "9 is odd\n",
      "10 is even\n",
      "11 is odd\n",
      "12 is even\n",
      "13 is odd\n",
      "14 is even\n",
      "15 is odd\n",
      "16 is even\n",
      "17 is odd\n",
      "18 is even\n",
      "19 is odd\n",
      "20 is even\n"
     ]
    }
   ],
   "source": [
    "for i in range(20):\n",
    "    i = i + 1\n",
    "    if i % 2 == 0:\n",
    "        print(i, \"is even\")\n",
    "    else:\n",
    "        print(i, \"is odd\")"
   ]
  },
  {
   "cell_type": "markdown",
   "id": "3e6d7fc2-8472-4ca2-869a-f216a4e0d56f",
   "metadata": {},
   "source": [
    "## Function sum_of_integers(a, b) that returns sum of input"
   ]
  },
  {
   "cell_type": "code",
   "execution_count": 28,
   "id": "1f85522d-0020-490c-9553-250761f3800a",
   "metadata": {},
   "outputs": [],
   "source": [
    "def sum_of_integers(a, b):\n",
    "    return a + b"
   ]
  },
  {
   "cell_type": "code",
   "execution_count": null,
   "id": "e0bfc319-3c23-4ea8-b354-0d268be6de0b",
   "metadata": {},
   "outputs": [
    {
     "data": {
      "text/plain": [
       "12"
      ]
     },
     "execution_count": 29,
     "metadata": {},
     "output_type": "execute_result"
    }
   ],
   "source": [
    "sum_of_integers(7, 5) # test"
   ]
  },
  {
   "cell_type": "markdown",
   "id": "e697f4ee-12a8-4d27-aea3-50340080bd54",
   "metadata": {},
   "source": [
    "## Additional Challenge - Books data challenge"
   ]
  },
  {
   "cell_type": "code",
   "execution_count": 83,
   "id": "9b754943-8bf5-4be7-ac39-ba8cf1e4771b",
   "metadata": {},
   "outputs": [],
   "source": [
    "books = [\n",
    "    {\n",
    "        \"title\": \"The Great Gatsby\",\n",
    "        \"author\": \"F. Scott Fitzgerald\",\n",
    "        \"genre\": \"Fiction\",\n",
    "        \"rating\": 4.2\n",
    "    },\n",
    "    {\n",
    "        \"title\": \"To Kill a Mockingbird\",\n",
    "        \"author\": \"Harper Lee\",\n",
    "        \"genre\": \"Classic\",\n",
    "        \"rating\": 4.5\n",
    "    },\n",
    "    {\n",
    "        \"title\": \"1984\",\n",
    "        \"author\": \"George Orwell\",\n",
    "        \"genre\": \"Dystopian\",\n",
    "        \"rating\": 4.8\n",
    "    },\n",
    "    {\n",
    "        \"title\": \"Pride and Prejudice\",\n",
    "        \"author\": \"Jane Austen\",\n",
    "        \"genre\": \"Romance\",\n",
    "        \"rating\": 4.7\n",
    "    },\n",
    "    {\n",
    "        \"title\": \"Harry Potter and the Sorcerer's Stone\",\n",
    "        \"author\": \"J.K. Rowling\",\n",
    "        \"genre\": \"Fantasy\",\n",
    "        \"rating\": 4.9\n",
    "    },\n",
    "    {\n",
    "        \"title\": \"The Catcher in the Rye\",\n",
    "        \"author\": \"J.D. Salinger\",\n",
    "        \"genre\": \"Coming-of-age\",\n",
    "        \"rating\": 4.1\n",
    "    }\n",
    "]"
   ]
  },
  {
   "cell_type": "code",
   "execution_count": 84,
   "id": "47444a04-6daf-45cf-b3c8-067b548bf935",
   "metadata": {},
   "outputs": [],
   "source": [
    "def check_rating(book):\n",
    "    k = book['rating']\n",
    "    if k <= 4:\n",
    "        return 'low'\n",
    "    elif k > 4.5:\n",
    "        return 'High'\n",
    "    else: \n",
    "        return 'Medium'"
   ]
  },
  {
   "cell_type": "code",
   "execution_count": 85,
   "id": "d04c5c63-bccb-42b4-a8db-c008551ede67",
   "metadata": {},
   "outputs": [
    {
     "data": {
      "text/plain": [
       "'Medium'"
      ]
     },
     "execution_count": 85,
     "metadata": {},
     "output_type": "execute_result"
    }
   ],
   "source": [
    "# Testing the function\n",
    "book = {\n",
    "        \"title\": \"The Catcher in the Rye\",\n",
    "        \"author\": \"J.D. Salinger\",\n",
    "        \"genre\": \"Coming-of-age\",\n",
    "        \"rating\": 4.1\n",
    "    }\n",
    "check_rating(book)"
   ]
  },
  {
   "cell_type": "code",
   "execution_count": 86,
   "id": "2c5618f7-3aae-45e2-86a8-8e3171f2595f",
   "metadata": {},
   "outputs": [],
   "source": [
    "def average_rating_by_genre(books, genre):\n",
    "    rating = []\n",
    "    for item in books:\n",
    "        if item['genre'] == genre:\n",
    "            rating.append(item['rating'])\n",
    "    if len(rating) > 0:\n",
    "        return f\"The average rating of {genre} is {sum(rating)/len(rating)}\"\n",
    "    else:\n",
    "        return \"The genre dosn't exist in the list\""
   ]
  },
  {
   "cell_type": "code",
   "execution_count": 87,
   "id": "55f0322e-6ba9-40b9-8648-2e124c96bfff",
   "metadata": {},
   "outputs": [
    {
     "data": {
      "text/plain": [
       "'The average rating of Coming-of-age is 4.1'"
      ]
     },
     "execution_count": 87,
     "metadata": {},
     "output_type": "execute_result"
    }
   ],
   "source": [
    "average_rating_by_genre(books, 'Coming-of-age') # test"
   ]
  },
  {
   "cell_type": "code",
   "execution_count": 90,
   "id": "6e650207-b028-4591-bf8b-c158d8d1f348",
   "metadata": {},
   "outputs": [],
   "source": [
    "def books_by_author(books, author):\n",
    "    author_book = []\n",
    "    for item in books:\n",
    "        if item['author'] == author:\n",
    "            author_book.append(item['title'])\n",
    "    if len(author_book) > 0:\n",
    "        return author_book\n",
    "    else:\n",
    "        return \"The book of the given author doesn't exist in the list of books.\""
   ]
  },
  {
   "cell_type": "code",
   "execution_count": 91,
   "id": "d2f65b92-29ba-4735-a9e6-eb3032ec9710",
   "metadata": {},
   "outputs": [
    {
     "data": {
      "text/plain": [
       "\"The book of the given author doesn't exist in the list of books.\""
      ]
     },
     "execution_count": 91,
     "metadata": {},
     "output_type": "execute_result"
    }
   ],
   "source": [
    "books_by_author(books, 'Komal Niraula') # test"
   ]
  },
  {
   "cell_type": "code",
   "execution_count": null,
   "id": "803a7d16-eb98-45c9-8793-1dcd5614e1ac",
   "metadata": {},
   "outputs": [],
   "source": []
  }
 ],
 "metadata": {
  "kernelspec": {
   "display_name": "Python (myenv)",
   "language": "python",
   "name": "myenv"
  },
  "language_info": {
   "codemirror_mode": {
    "name": "ipython",
    "version": 3
   },
   "file_extension": ".py",
   "mimetype": "text/x-python",
   "name": "python",
   "nbconvert_exporter": "python",
   "pygments_lexer": "ipython3",
   "version": "3.13.2"
  }
 },
 "nbformat": 4,
 "nbformat_minor": 5
}
